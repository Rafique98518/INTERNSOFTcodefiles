{
  "cells": [
    {
      "cell_type": "markdown",
      "metadata": {
        "id": "uafk2U8298Ug"
      },
      "source": [
        "# In this session, we are going to explore other container objects and functions\n",
        "\n",
        "## In this session, we are going to learn the following key topics:\n",
        "*   Tuple\n",
        "*   Set\n",
        "*   Dictionary\n",
        "*   Function\n",
        "*   Lambda\n",
        "*   Iterator\n",
        "*   Generator\n",
        "*   Map\n",
        "*   Reduce\n",
        "*   Filter"
      ]
    },
    {
      "cell_type": "markdown",
      "metadata": {
        "id": "Q-hChCIK98Uj"
      },
      "source": [
        "# Tuples\n",
        "\n",
        "In Python, tuples are similar to lists but they are immutable i.e. they cannot be changed. You would use the tuples to present data that shouldn't be changed, such as days of week or dates on  a calendar.\n",
        "\n",
        "In this section, we will get a brief overview of the following key topics:\n",
        "\n",
        "    1.) Constructing Tuples\n",
        "    2.) Basic Tuple Methods\n",
        "    3.) Immutability\n",
        "    4.) When to Use Tuples\n",
        "\n",
        "You'll have an intuition of how to use tuples based on what you've learned about lists. But, Tuples work very similar to lists but the  major difference is tuples are immutable.\n",
        "\n",
        "## Constructing Tuples\n",
        "\n",
        "The construction of tuples use () with elements separated by commas where in the arguments will be passed within brackets. For example:"
      ]
    },
    {
      "cell_type": "code",
      "execution_count": 1,
      "metadata": {
        "id": "diV_k2NG98Uk"
      },
      "outputs": [],
      "source": [
        "# Can create a tuple with mixed types\n",
        "t=(1,2,3)"
      ]
    },
    {
      "cell_type": "code",
      "execution_count": 2,
      "metadata": {
        "colab": {
          "base_uri": "https://localhost:8080/"
        },
        "id": "EZ9v8BIe98Ul",
        "outputId": "34746c26-3217-4d66-a8bc-ea8324ca5fe0"
      },
      "outputs": [
        {
          "output_type": "execute_result",
          "data": {
            "text/plain": [
              "3"
            ]
          },
          "metadata": {},
          "execution_count": 2
        }
      ],
      "source": [
        "# Check len just like a list\n",
        "len(t)"
      ]
    },
    {
      "cell_type": "code",
      "execution_count": 4,
      "metadata": {
        "colab": {
          "base_uri": "https://localhost:8080/"
        },
        "id": "lrNQ-_gk98Um",
        "outputId": "b9f01cfe-793f-41cf-e4d3-b500e3bcb4f5"
      },
      "outputs": [
        {
          "output_type": "execute_result",
          "data": {
            "text/plain": [
              "('one', 2)"
            ]
          },
          "metadata": {},
          "execution_count": 4
        }
      ],
      "source": [
        "# Can also mix object types\n",
        "t=('one',2)\n",
        "# Show\n",
        "t"
      ]
    },
    {
      "cell_type": "code",
      "execution_count": 7,
      "metadata": {
        "colab": {
          "base_uri": "https://localhost:8080/",
          "height": 35
        },
        "id": "oo4o6Lf998Um",
        "outputId": "e5cbd3a4-b5a5-43ff-fed6-e5a50bed5d49"
      },
      "outputs": [
        {
          "output_type": "execute_result",
          "data": {
            "text/plain": [
              "'one'"
            ],
            "application/vnd.google.colaboratory.intrinsic+json": {
              "type": "string"
            }
          },
          "metadata": {},
          "execution_count": 7
        }
      ],
      "source": [
        "# Use indexing just like we did in lists\n",
        "t[0]"
      ]
    },
    {
      "cell_type": "code",
      "execution_count": 8,
      "metadata": {
        "colab": {
          "base_uri": "https://localhost:8080/"
        },
        "id": "KTUNscXJ98Un",
        "outputId": "199d02aa-8fc8-43cc-f9bf-949b5b48cf94"
      },
      "outputs": [
        {
          "output_type": "execute_result",
          "data": {
            "text/plain": [
              "2"
            ]
          },
          "metadata": {},
          "execution_count": 8
        }
      ],
      "source": [
        "# Slicing just like a list\n",
        "t[-1]"
      ]
    },
    {
      "cell_type": "markdown",
      "metadata": {
        "id": "fMzdiWpC98Un"
      },
      "source": [
        "## Basic Tuple Methods\n",
        "\n",
        "Tuples have built-in methods, but not as many as lists do. Let's see two samples of tuple built-in methods:"
      ]
    },
    {
      "cell_type": "code",
      "execution_count": 9,
      "metadata": {
        "colab": {
          "base_uri": "https://localhost:8080/"
        },
        "id": "nYEF8aZu98Uo",
        "outputId": "d2ba9a3d-aef5-4314-89d6-193d8ac3369f"
      },
      "outputs": [
        {
          "output_type": "execute_result",
          "data": {
            "text/plain": [
              "0"
            ]
          },
          "metadata": {},
          "execution_count": 9
        }
      ],
      "source": [
        "# Use .index to enter a value and return the index\n",
        "t.index('one')"
      ]
    },
    {
      "cell_type": "code",
      "execution_count": 10,
      "metadata": {
        "colab": {
          "base_uri": "https://localhost:8080/"
        },
        "id": "suF-Jt_c98Uo",
        "outputId": "b1a6a731-aee7-406b-f3b6-d40cf29e79e5"
      },
      "outputs": [
        {
          "output_type": "execute_result",
          "data": {
            "text/plain": [
              "1"
            ]
          },
          "metadata": {},
          "execution_count": 10
        }
      ],
      "source": [
        "# Use .count to count the number of times a value appears\n",
        "t.count('one')"
      ]
    },
    {
      "cell_type": "markdown",
      "metadata": {
        "id": "ACbsbCsY98Up"
      },
      "source": [
        "## Immutability\n",
        "\n",
        "As tuples are immutable, it can't be stressed enough and add more into it. To drive that point home:"
      ]
    },
    {
      "cell_type": "code",
      "execution_count": 11,
      "metadata": {
        "colab": {
          "base_uri": "https://localhost:8080/",
          "height": 141
        },
        "id": "xukVOk4f98Up",
        "outputId": "14607973-0337-4d42-f5ce-dfe1c8391fd7"
      },
      "outputs": [
        {
          "output_type": "error",
          "ename": "TypeError",
          "evalue": "'tuple' object does not support item assignment",
          "traceback": [
            "\u001b[0;31m---------------------------------------------------------------------------\u001b[0m",
            "\u001b[0;31mTypeError\u001b[0m                                 Traceback (most recent call last)",
            "\u001b[0;32m<ipython-input-11-ba8ab3b9c1bf>\u001b[0m in \u001b[0;36m<cell line: 0>\u001b[0;34m()\u001b[0m\n\u001b[0;32m----> 1\u001b[0;31m \u001b[0mt\u001b[0m\u001b[0;34m[\u001b[0m\u001b[0;36m0\u001b[0m\u001b[0;34m]\u001b[0m\u001b[0;34m=\u001b[0m\u001b[0;34m'change'\u001b[0m\u001b[0;34m\u001b[0m\u001b[0;34m\u001b[0m\u001b[0m\n\u001b[0m",
            "\u001b[0;31mTypeError\u001b[0m: 'tuple' object does not support item assignment"
          ]
        }
      ],
      "source": [
        "t[0]='change'"
      ]
    },
    {
      "cell_type": "markdown",
      "metadata": {
        "id": "Ibcw5Bxo98Uq"
      },
      "source": [
        "Because tuple being immutable they can't grow. Once a tuple is made we can not add to it."
      ]
    },
    {
      "cell_type": "code",
      "execution_count": 12,
      "metadata": {
        "colab": {
          "base_uri": "https://localhost:8080/",
          "height": 141
        },
        "id": "7LDdKbxl98Uq",
        "outputId": "9f26f7f6-a8d4-4aec-c796-75b16ad28c4a"
      },
      "outputs": [
        {
          "output_type": "error",
          "ename": "AttributeError",
          "evalue": "'tuple' object has no attribute 'append'",
          "traceback": [
            "\u001b[0;31m---------------------------------------------------------------------------\u001b[0m",
            "\u001b[0;31mAttributeError\u001b[0m                            Traceback (most recent call last)",
            "\u001b[0;32m<ipython-input-12-1163bebb975a>\u001b[0m in \u001b[0;36m<cell line: 0>\u001b[0;34m()\u001b[0m\n\u001b[0;32m----> 1\u001b[0;31m \u001b[0mt\u001b[0m\u001b[0;34m.\u001b[0m\u001b[0mappend\u001b[0m\u001b[0;34m(\u001b[0m\u001b[0;34m'one'\u001b[0m\u001b[0;34m)\u001b[0m\u001b[0;34m\u001b[0m\u001b[0;34m\u001b[0m\u001b[0m\n\u001b[0m",
            "\u001b[0;31mAttributeError\u001b[0m: 'tuple' object has no attribute 'append'"
          ]
        }
      ],
      "source": [
        "t.append('one')"
      ]
    },
    {
      "cell_type": "markdown",
      "metadata": {
        "id": "M8vvDqeB98Uq"
      },
      "source": [
        "## When to use Tuples\n",
        "\n",
        "You may be wondering, \"Why to bother using tuples when they have a few available methods?\"\n",
        "\n",
        "Tuples are not used often as lists in programming but are used when immutability is necessary. While you are passing around an object and if you need to make sure that it does not get changed then tuple become your solution. It provides a convenient source of data integrity.\n",
        "\n",
        "You should now be able to create and use tuples in your programming as well as have a complete understanding of their immutability."
      ]
    },
    {
      "cell_type": "markdown",
      "metadata": {
        "id": "z29CNYHu98Ur"
      },
      "source": [
        "# Sets\n",
        "\n",
        "Sets are an unordered collection of *unique* elements which can be constructed using the set() function.\n",
        "\n",
        "Let's go ahead and create a set to see how it works."
      ]
    },
    {
      "cell_type": "code",
      "execution_count": 13,
      "metadata": {
        "id": "w9pFkXyj98Ur"
      },
      "outputs": [],
      "source": [
        "x=set()"
      ]
    },
    {
      "cell_type": "code",
      "execution_count": 14,
      "metadata": {
        "id": "TshTRxoj98Ur"
      },
      "outputs": [],
      "source": [
        "# We add to sets with the add() method\n",
        "x.add(1)"
      ]
    },
    {
      "cell_type": "code",
      "execution_count": 15,
      "metadata": {
        "colab": {
          "base_uri": "https://localhost:8080/"
        },
        "id": "oQkCqL1H98Ur",
        "outputId": "dbb75614-e067-4fb0-b6ab-fbc060c727be"
      },
      "outputs": [
        {
          "output_type": "execute_result",
          "data": {
            "text/plain": [
              "{1}"
            ]
          },
          "metadata": {},
          "execution_count": 15
        }
      ],
      "source": [
        "#Show\n",
        "x"
      ]
    },
    {
      "cell_type": "markdown",
      "metadata": {
        "id": "8aWr4ow498Us"
      },
      "source": [
        "Note that the curly brackets do not indicate a dictionary! Using only keys, you can draw analogies as a set being a dictionary.\n",
        "\n",
        "We know that a set has an only unique entry. Now, let us see what happens when we try to add something more that is already present in a set?"
      ]
    },
    {
      "cell_type": "code",
      "execution_count": 16,
      "metadata": {
        "id": "c9zMyABW98Us"
      },
      "outputs": [],
      "source": [
        "# Add a different element\n",
        "x.add(2)"
      ]
    },
    {
      "cell_type": "code",
      "execution_count": 17,
      "metadata": {
        "colab": {
          "base_uri": "https://localhost:8080/"
        },
        "id": "rAMB9Q6N98Us",
        "outputId": "b16e951d-f1c0-46f5-ab4b-f4b4c3e1a53a"
      },
      "outputs": [
        {
          "output_type": "execute_result",
          "data": {
            "text/plain": [
              "{1, 2}"
            ]
          },
          "metadata": {},
          "execution_count": 17
        }
      ],
      "source": [
        "#Show\n",
        "x"
      ]
    },
    {
      "cell_type": "code",
      "execution_count": 20,
      "metadata": {
        "id": "-jdHbOc-98Us"
      },
      "outputs": [],
      "source": [
        "# Try to add the same element\n",
        "x.add(1)"
      ]
    },
    {
      "cell_type": "code",
      "execution_count": 21,
      "metadata": {
        "colab": {
          "base_uri": "https://localhost:8080/"
        },
        "id": "R4Gn2hRK98Ut",
        "outputId": "747f59c4-b91f-4b0b-fef6-eb0a96223a59"
      },
      "outputs": [
        {
          "output_type": "execute_result",
          "data": {
            "text/plain": [
              "{1, 2}"
            ]
          },
          "metadata": {},
          "execution_count": 21
        }
      ],
      "source": [
        "#Show\n",
        "x"
      ]
    },
    {
      "cell_type": "markdown",
      "metadata": {
        "id": "U6c-UszF98Ut"
      },
      "source": [
        "Notice, how it won't place another 1 there as a set is only concerned with unique elements! However, We can cast a list with multiple repeat elements to a set to get the unique elements. For example:"
      ]
    },
    {
      "cell_type": "code",
      "execution_count": 22,
      "metadata": {
        "id": "3FZVd2UV98Ut"
      },
      "outputs": [],
      "source": [
        "# Create a list with repeats\n",
        "l=[1,1,2,2,3,4,5,6,1,1]"
      ]
    },
    {
      "cell_type": "code",
      "execution_count": 23,
      "metadata": {
        "colab": {
          "base_uri": "https://localhost:8080/"
        },
        "id": "p4aJCJGS98Ut",
        "outputId": "312af489-3e8f-475b-930a-0c3115b2ba54"
      },
      "outputs": [
        {
          "output_type": "execute_result",
          "data": {
            "text/plain": [
              "{1, 2, 3, 4, 5, 6}"
            ]
          },
          "metadata": {},
          "execution_count": 23
        }
      ],
      "source": [
        "# Cast as set to get unique values\n",
        "set(l)"
      ]
    },
    {
      "cell_type": "markdown",
      "metadata": {
        "id": "wCfCgZqS98Uu"
      },
      "source": [
        "# Dictionaries\n",
        "\n",
        "We have learned about \"Sequences\" in the previous session. Now, let's switch the gears and learn about \"mappings\" in Python. These dictionaries are nothing but hash tables in other programming languages.\n",
        "\n",
        "In this section, we will learn briefly about an introduction to dictionaries and what it consists of:\n",
        "\n",
        "    1.) Constructing a Dictionary\n",
        "    2.) Accessing objects from a Dictionary\n",
        "    3.) Nesting Dictionaries\n",
        "    4.) Basic Dictionary Methods\n",
        "\n",
        "Before we dive deep into this concept, let's understand what are Mappings?\n",
        "\n",
        "Mappings are a collection of objects that are stored by a \"key\". Unlike a sequence, mapping store objects by their relative position. This is an important distinction since mappings won't retain the order since they have objects defined by a key.\n",
        "\n",
        "A Python dictionary consists of a key and then an associated value. That value can be almost any Python object.\n",
        "\n",
        "\n",
        "## Constructing a Dictionary\n",
        "Let's see how we can construct dictionaries to get a better understanding of how they work!"
      ]
    },
    {
      "cell_type": "code",
      "execution_count": 24,
      "metadata": {
        "id": "DtJOQlA698Uu"
      },
      "outputs": [],
      "source": [
        "# Make a dictionary with {} and : to signify a key and a value\n",
        "my_dict={'key1':'value1','key2':'value2'}"
      ]
    },
    {
      "cell_type": "code",
      "execution_count": 25,
      "metadata": {
        "colab": {
          "base_uri": "https://localhost:8080/",
          "height": 35
        },
        "id": "4Xl3F-zD98Uu",
        "outputId": "e7ff9b62-43ac-4cbf-a5c0-c12bad34766b"
      },
      "outputs": [
        {
          "output_type": "execute_result",
          "data": {
            "text/plain": [
              "'value2'"
            ],
            "application/vnd.google.colaboratory.intrinsic+json": {
              "type": "string"
            }
          },
          "metadata": {},
          "execution_count": 25
        }
      ],
      "source": [
        "# Call values by their key\n",
        "my_dict['key2']"
      ]
    },
    {
      "cell_type": "markdown",
      "metadata": {
        "id": "TVOhEH7D98Uv"
      },
      "source": [
        "Note that dictionaries are very flexible in the data types they can hold. For example:"
      ]
    },
    {
      "cell_type": "code",
      "execution_count": 26,
      "metadata": {
        "id": "FkV3nl9L98Uv"
      },
      "outputs": [],
      "source": [
        "my_dict={'key1':123,'key2':[12,23,33],'key3':['item0','item1','item2']}"
      ]
    },
    {
      "cell_type": "code",
      "execution_count": 27,
      "metadata": {
        "colab": {
          "base_uri": "https://localhost:8080/"
        },
        "id": "31tyvblr98Uv",
        "outputId": "73fb6852-cb6a-4187-f56b-cfbffb759247"
      },
      "outputs": [
        {
          "output_type": "execute_result",
          "data": {
            "text/plain": [
              "['item0', 'item1', 'item2']"
            ]
          },
          "metadata": {},
          "execution_count": 27
        }
      ],
      "source": [
        "#Let's call items from the dictionary\n",
        "my_dict['key3']"
      ]
    },
    {
      "cell_type": "code",
      "execution_count": 28,
      "metadata": {
        "colab": {
          "base_uri": "https://localhost:8080/",
          "height": 35
        },
        "id": "Wea3ZJir98Uv",
        "outputId": "ba992fb8-1a9f-4484-8d33-ea80cfb7e6cc"
      },
      "outputs": [
        {
          "output_type": "execute_result",
          "data": {
            "text/plain": [
              "'item0'"
            ],
            "application/vnd.google.colaboratory.intrinsic+json": {
              "type": "string"
            }
          },
          "metadata": {},
          "execution_count": 28
        }
      ],
      "source": [
        "# Can call an index on that value\n",
        "my_dict['key3'][0]"
      ]
    },
    {
      "cell_type": "code",
      "execution_count": 30,
      "metadata": {
        "colab": {
          "base_uri": "https://localhost:8080/",
          "height": 35
        },
        "id": "eRiwLbnz98Uw",
        "outputId": "6ac96f8b-dee8-4e4e-8c7d-03b32182b7ed"
      },
      "outputs": [
        {
          "output_type": "execute_result",
          "data": {
            "text/plain": [
              "'ITEM0'"
            ],
            "application/vnd.google.colaboratory.intrinsic+json": {
              "type": "string"
            }
          },
          "metadata": {},
          "execution_count": 30
        }
      ],
      "source": [
        "#Can then even call methods on that value\n",
        "my_dict['key3'][0].upper()"
      ]
    },
    {
      "cell_type": "markdown",
      "metadata": {
        "id": "8MX7YQ1d98Uw"
      },
      "source": [
        "We can effect the values of a key as well. For instance:"
      ]
    },
    {
      "cell_type": "code",
      "execution_count": 31,
      "metadata": {
        "colab": {
          "base_uri": "https://localhost:8080/"
        },
        "id": "yrHlA8Ut98Uw",
        "outputId": "b4b97611-7798-4fa9-90f8-47f2ed13f033"
      },
      "outputs": [
        {
          "output_type": "execute_result",
          "data": {
            "text/plain": [
              "123"
            ]
          },
          "metadata": {},
          "execution_count": 31
        }
      ],
      "source": [
        "my_dict['key1']"
      ]
    },
    {
      "cell_type": "code",
      "execution_count": 32,
      "metadata": {
        "id": "uNkAyhlY98Uw"
      },
      "outputs": [],
      "source": [
        "# Subtract 123 from the value\n",
        "my_dict['key1']=my_dict['key1']-123"
      ]
    },
    {
      "cell_type": "code",
      "execution_count": 34,
      "metadata": {
        "colab": {
          "base_uri": "https://localhost:8080/"
        },
        "id": "Ze4LN1lz98Ux",
        "outputId": "40269ed5-d855-454e-b300-c75665432b6a"
      },
      "outputs": [
        {
          "output_type": "execute_result",
          "data": {
            "text/plain": [
              "0"
            ]
          },
          "metadata": {},
          "execution_count": 34
        }
      ],
      "source": [
        "#Check\n",
        "my_dict['key1']"
      ]
    },
    {
      "cell_type": "markdown",
      "metadata": {
        "id": "diPlzGRm98U5"
      },
      "source": [
        "\\Note, Python has a built-in method of doing a self subtraction or addition (or multiplication or division). We could also use += or -= for the above statement. For example:"
      ]
    },
    {
      "cell_type": "code",
      "execution_count": 35,
      "metadata": {
        "colab": {
          "base_uri": "https://localhost:8080/"
        },
        "id": "yqOB1aPi98U6",
        "outputId": "8e5b0721-144a-4f87-ca07-8aaea734d5cc"
      },
      "outputs": [
        {
          "output_type": "execute_result",
          "data": {
            "text/plain": [
              "-123"
            ]
          },
          "metadata": {},
          "execution_count": 35
        }
      ],
      "source": [
        "# Set the object equal to itself minus 123\n",
        "my_dict['key1']-=123\n",
        "my_dict['key1']"
      ]
    },
    {
      "cell_type": "markdown",
      "metadata": {
        "id": "fsRIsMDf98U6"
      },
      "source": [
        "We can also create keys by assignment. For instance if we started off with an empty dictionary, we could continually add to it:"
      ]
    },
    {
      "cell_type": "code",
      "execution_count": 37,
      "metadata": {
        "id": "p1iUM6bK98U6"
      },
      "outputs": [],
      "source": [
        "# Create a new dictionary\n",
        "d={}"
      ]
    },
    {
      "cell_type": "code",
      "execution_count": 38,
      "metadata": {
        "id": "96Rufr7198U6"
      },
      "outputs": [],
      "source": [
        "# Create a new key through assignment\n",
        "d['animal']='dog'"
      ]
    },
    {
      "cell_type": "code",
      "execution_count": 39,
      "metadata": {
        "id": "oxGj5pF298U7"
      },
      "outputs": [],
      "source": [
        "# Can do this with any object\n",
        "d['answer']=42"
      ]
    },
    {
      "cell_type": "code",
      "execution_count": 40,
      "metadata": {
        "colab": {
          "base_uri": "https://localhost:8080/"
        },
        "id": "YIosLM8I98U7",
        "outputId": "962001c1-178a-4f76-e020-e1a25efc60f9"
      },
      "outputs": [
        {
          "output_type": "execute_result",
          "data": {
            "text/plain": [
              "{'animal': 'dog', 'answer': 42}"
            ]
          },
          "metadata": {},
          "execution_count": 40
        }
      ],
      "source": [
        "#Show\n",
        "d"
      ]
    },
    {
      "cell_type": "markdown",
      "metadata": {
        "id": "qXAwjHtv98U7"
      },
      "source": [
        "## Nesting with Dictionaries\n",
        "\n",
        "Let's understand how flexible Python is with nesting objects and calling methods on them. let's have a look at the dictionary nested inside a dictionary:"
      ]
    },
    {
      "cell_type": "code",
      "execution_count": 41,
      "metadata": {
        "id": "tlw6gBjN98U7"
      },
      "outputs": [],
      "source": [
        "# Dictionary nested inside a dictionary nested in side a dictionary\n",
        "d={'key1':{'nestkey':{'subnestkey':'value'}}}"
      ]
    },
    {
      "cell_type": "markdown",
      "metadata": {
        "id": "ahM-Dstm98U8"
      },
      "source": [
        "Thats the inception of dictionaries. Now, Let's see how we can grab that value:"
      ]
    },
    {
      "cell_type": "code",
      "execution_count": 42,
      "metadata": {
        "colab": {
          "base_uri": "https://localhost:8080/",
          "height": 35
        },
        "id": "l3PScZaP98U8",
        "outputId": "dbb181bd-7c42-48f2-9f63-1673e97d6589"
      },
      "outputs": [
        {
          "output_type": "execute_result",
          "data": {
            "text/plain": [
              "'value'"
            ],
            "application/vnd.google.colaboratory.intrinsic+json": {
              "type": "string"
            }
          },
          "metadata": {},
          "execution_count": 42
        }
      ],
      "source": [
        "# Keep calling the keys\n",
        "d['key1']['nestkey']['subnestkey']"
      ]
    },
    {
      "cell_type": "markdown",
      "metadata": {
        "id": "9XvQkrNd98U8"
      },
      "source": [
        "## A few Dictionary Methods\n",
        "\n",
        "There are a few methods we can call on a dictionary. Let's get a quick introduction to a few methods:"
      ]
    },
    {
      "cell_type": "code",
      "execution_count": 43,
      "metadata": {
        "id": "spXf0Ci_98U8"
      },
      "outputs": [],
      "source": [
        "# Create a typical dictionary\n",
        "d={'key1':1,'key2':2,'key3':3}"
      ]
    },
    {
      "cell_type": "code",
      "execution_count": 44,
      "metadata": {
        "colab": {
          "base_uri": "https://localhost:8080/"
        },
        "id": "Lc_KseZ598U8",
        "outputId": "6127df2f-8b2e-472d-fe2a-5069937a438e"
      },
      "outputs": [
        {
          "output_type": "execute_result",
          "data": {
            "text/plain": [
              "dict_keys(['key1', 'key2', 'key3'])"
            ]
          },
          "metadata": {},
          "execution_count": 44
        }
      ],
      "source": [
        "# Method to return a list of all keys\n",
        "d.keys()"
      ]
    },
    {
      "cell_type": "code",
      "execution_count": 45,
      "metadata": {
        "colab": {
          "base_uri": "https://localhost:8080/"
        },
        "id": "aKJ8CTeG98U9",
        "outputId": "f7af9870-e232-4ee5-9c14-01cb1efb0706"
      },
      "outputs": [
        {
          "output_type": "execute_result",
          "data": {
            "text/plain": [
              "dict_values([1, 2, 3])"
            ]
          },
          "metadata": {},
          "execution_count": 45
        }
      ],
      "source": [
        "# Method to grab all values\n",
        "d.values()"
      ]
    },
    {
      "cell_type": "code",
      "execution_count": 46,
      "metadata": {
        "colab": {
          "base_uri": "https://localhost:8080/"
        },
        "id": "HW8HOpdT98U9",
        "outputId": "c1decb0c-c6bd-48d2-fc04-89c3afa69ee4"
      },
      "outputs": [
        {
          "output_type": "execute_result",
          "data": {
            "text/plain": [
              "dict_items([('key1', 1), ('key2', 2), ('key3', 3)])"
            ]
          },
          "metadata": {},
          "execution_count": 46
        }
      ],
      "source": [
        "# Method to return tuples of all items  (we'll learn about tuples soon)\n",
        "d.items()"
      ]
    },
    {
      "cell_type": "markdown",
      "metadata": {
        "id": "EOF-UvdQ98U9"
      },
      "source": []
    },
    {
      "cell_type": "markdown",
      "metadata": {
        "id": "3TyCXxhH98U9"
      },
      "source": [
        "## Dictionary Comprehensions\n",
        "\n",
        "Just like List Comprehensions, Dictionary Data Types also support their own version of comprehension for quick creation. It is not as commonly used as List Comprehensions, but the syntax is:"
      ]
    },
    {
      "cell_type": "code",
      "execution_count": 47,
      "metadata": {
        "colab": {
          "base_uri": "https://localhost:8080/"
        },
        "id": "Ma60Ls_l98U9",
        "outputId": "5dfd01a4-22e8-4515-c854-2864dbe17e07"
      },
      "outputs": [
        {
          "output_type": "execute_result",
          "data": {
            "text/plain": [
              "{0: 0, 1: 1, 2: 4, 3: 9, 4: 16, 5: 25, 6: 36, 7: 49, 8: 64, 9: 81}"
            ]
          },
          "metadata": {},
          "execution_count": 47
        }
      ],
      "source": [
        "{x:x**2 for x in range(10)}"
      ]
    },
    {
      "cell_type": "code",
      "execution_count": null,
      "metadata": {
        "id": "ZDbFsfH698U-"
      },
      "outputs": [],
      "source": []
    },
    {
      "cell_type": "markdown",
      "metadata": {
        "id": "WyUYKUFH98U-"
      },
      "source": [
        "One of the reasons is the difficulty in structuring the key names that are not based on the values."
      ]
    },
    {
      "cell_type": "markdown",
      "metadata": {
        "id": "KoY3HwNs98U-"
      },
      "source": [
        "# Functions\n",
        "\n",
        "## Introduction to Functions\n",
        "\n",
        "What is a function in Python and how to create a function?\n",
        "\n",
        "Functions will be one of our main building blocks when we construct larger and larger amount of code to solve problems.\n",
        "\n",
        "**So what is a function?**\n",
        "\n",
        "A function groups a set of statements together to run the statements more than once. It allows us to specify parameters that can serve as inputs to the functions.\n",
        "\n",
        "Functions allow us to reuse the code instead of writing the code again and again. If you recall strings and lists, remember that len() function is used to find the length of a string. Since checking the length of a sequence is a common task, you would want to write a function that can do this repeatedly at command.\n",
        "\n",
        "Function is one of the most basic levels of reusing code in Python, and it will also allow us to start thinking of program design."
      ]
    },
    {
      "cell_type": "markdown",
      "metadata": {
        "id": "gjw7yEbs98U-"
      },
      "source": [
        "## def Statements\n",
        "\n",
        "Now, let us learn how to build a function and what is the syntax in Python.\n",
        "\n",
        "The syntax for def statements will be in the following form:"
      ]
    },
    {
      "cell_type": "code",
      "execution_count": 50,
      "metadata": {
        "id": "23_Jq1fv98U-"
      },
      "outputs": [],
      "source": [
        "def name_of_function(arg1,arg2):\n",
        "  ...\n",
        "\n",
        "  ...\n",
        "    # Do stuff here\n",
        "    #return desired result"
      ]
    },
    {
      "cell_type": "markdown",
      "metadata": {
        "id": "7-cBSaCs98U_"
      },
      "source": [
        "We begin with def then a space followed by the name of the function. Try to keep names relevant and simple as possible, for example, len() is a good name for a length() function. Also be careful with names, you wouldn't want to call a function the same name as a [built-in function in Python](https://docs.python.org/2/library/functions.html) (such as len).\n",
        "\n",
        "Next, comes the number of arguments separated by a comma within a pair of parenthesis which acts as input to the defined function,  reference them and the function definition with a colon.  \n",
        "\n",
        "Here comes the important step to indent to begin the code inside the defined functions properly. Also remember, Python makes use of *whitespace* to organize code and lot of other programming languages do not do this.\n",
        "\n",
        "Next, you'll see the doc-string where you write the basic description of the function. Using iPython and iPython Notebooks, you'll be able to read these doc-strings by pressing Shift+Tab after a function name. It is not mandatory to include docstrings with simple functions, but it is a good practice to put them as this will help the programmers to easily understand the code you write.\n",
        "\n",
        "After all this, you can begin writing the code you wish to execute.\n",
        "\n",
        "The best way to learn functions is by going through examples. So let's try to analyze and understand examples that relate back to the various objects and data structures we learned."
      ]
    },
    {
      "cell_type": "markdown",
      "metadata": {
        "id": "LN-92OEg98U_"
      },
      "source": [
        "### Example 1: A simple print 'hello' function"
      ]
    },
    {
      "cell_type": "code",
      "execution_count": 51,
      "metadata": {
        "id": "bChTlCDM98U_"
      },
      "outputs": [],
      "source": [
        "def say_hello():\n",
        "  print('hello')"
      ]
    },
    {
      "cell_type": "markdown",
      "metadata": {
        "id": "6j6Fh30U98U_"
      },
      "source": [
        "Call the function"
      ]
    },
    {
      "cell_type": "code",
      "execution_count": 52,
      "metadata": {
        "colab": {
          "base_uri": "https://localhost:8080/",
          "height": 104
        },
        "id": "2jhXf_r_98U_",
        "outputId": "6d2dc4f1-0df0-448c-8713-9ea3ebd8fbb4"
      },
      "outputs": [
        {
          "output_type": "execute_result",
          "data": {
            "text/plain": [
              "<function __main__.say_hello()>"
            ],
            "text/html": [
              "<div style=\"max-width:800px; border: 1px solid var(--colab-border-color);\"><style>\n",
              "      pre.function-repr-contents {\n",
              "        overflow-x: auto;\n",
              "        padding: 8px 12px;\n",
              "        max-height: 500px;\n",
              "      }\n",
              "\n",
              "      pre.function-repr-contents.function-repr-contents-collapsed {\n",
              "        cursor: pointer;\n",
              "        max-height: 100px;\n",
              "      }\n",
              "    </style>\n",
              "    <pre style=\"white-space: initial; background:\n",
              "         var(--colab-secondary-surface-color); padding: 8px 12px;\n",
              "         border-bottom: 1px solid var(--colab-border-color);\"><b>say_hello</b><br/>def say_hello()</pre><pre class=\"function-repr-contents function-repr-contents-collapsed\" style=\"\"><a class=\"filepath\" style=\"display:none\" href=\"#\">/content/&lt;ipython-input-51-5ee46ead3908&gt;</a>&lt;no docstring&gt;</pre></div>"
            ]
          },
          "metadata": {},
          "execution_count": 52
        }
      ],
      "source": [
        "say_hello"
      ]
    },
    {
      "cell_type": "markdown",
      "metadata": {
        "id": "b4foGMFM98U_"
      },
      "source": [
        "### Example 2: A simple greeting function\n",
        "Let's write a function that greets people with their name."
      ]
    },
    {
      "cell_type": "code",
      "execution_count": 53,
      "metadata": {
        "id": "_TQsjjD-98VA"
      },
      "outputs": [],
      "source": [
        "def greeting(name):\n",
        "  print('hello %s' %name)"
      ]
    },
    {
      "cell_type": "code",
      "execution_count": 54,
      "metadata": {
        "colab": {
          "base_uri": "https://localhost:8080/"
        },
        "id": "4hCv3bgb98VA",
        "outputId": "a2035048-dd11-4da8-bd62-550d5320bd43"
      },
      "outputs": [
        {
          "output_type": "stream",
          "name": "stdout",
          "text": [
            "hello rafique\n"
          ]
        }
      ],
      "source": [
        "greeting('rafique')"
      ]
    },
    {
      "cell_type": "markdown",
      "metadata": {
        "id": "45hhXeSL98VA"
      },
      "source": [
        "## Using return\n",
        "Let's see some examples that use a return statement. Return allows a function to \"return\" a result that can then be stored as a variable, or used in whatever manner a user wants.\n",
        "\n",
        "### Example 3: Addition function"
      ]
    },
    {
      "cell_type": "code",
      "execution_count": 55,
      "metadata": {
        "id": "VhG3MK_w98VA"
      },
      "outputs": [],
      "source": [
        "def add_num(num1,num2):\n",
        "  return num1+num2"
      ]
    },
    {
      "cell_type": "code",
      "execution_count": 56,
      "metadata": {
        "colab": {
          "base_uri": "https://localhost:8080/"
        },
        "id": "mD3MOIKJ98VA",
        "outputId": "8e01f1a3-0385-429a-fe14-aa2748dc4828"
      },
      "outputs": [
        {
          "output_type": "execute_result",
          "data": {
            "text/plain": [
              "9"
            ]
          },
          "metadata": {},
          "execution_count": 56
        }
      ],
      "source": [
        "add_num(4,5)"
      ]
    },
    {
      "cell_type": "code",
      "execution_count": 57,
      "metadata": {
        "id": "VbWpwdqv98VB"
      },
      "outputs": [],
      "source": [
        "# Can also save as variable due to return\n",
        "result=add_num(4,5)"
      ]
    },
    {
      "cell_type": "code",
      "execution_count": 58,
      "metadata": {
        "colab": {
          "base_uri": "https://localhost:8080/"
        },
        "id": "Tj_LHR_R98VB",
        "outputId": "d29983aa-89ca-4426-90f4-2175bc3888a9"
      },
      "outputs": [
        {
          "output_type": "stream",
          "name": "stdout",
          "text": [
            "9\n"
          ]
        }
      ],
      "source": [
        "print(result)"
      ]
    },
    {
      "cell_type": "markdown",
      "metadata": {
        "id": "EqU-6fev98VB"
      },
      "source": [
        "What happens if we input two strings?"
      ]
    },
    {
      "cell_type": "code",
      "execution_count": 59,
      "metadata": {
        "colab": {
          "base_uri": "https://localhost:8080/"
        },
        "id": "3OZX4zJ598VB",
        "outputId": "8d25cddb-5bf9-4f71-ed26-bf6eb58175c7"
      },
      "outputs": [
        {
          "output_type": "stream",
          "name": "stdout",
          "text": [
            "one\ttwo\n"
          ]
        }
      ],
      "source": [
        "print(add_num('one\\t','two'))"
      ]
    },
    {
      "cell_type": "markdown",
      "metadata": {
        "id": "SrL6p70o98VB"
      },
      "source": [
        "In Python we don't declare variable types, this function could be used to add numbers or sequences together! Going forward, We'll learn about adding in checks to make sure a user puts in the correct arguments into a function.\n",
        "\n",
        "Let's also start using *break*,*continue*, and *pass* statements in our code. We introduced these during the while lecture."
      ]
    },
    {
      "cell_type": "markdown",
      "metadata": {
        "collapsed": true,
        "id": "EuM9EC1I98VC"
      },
      "source": [
        "Now, let's see a complete example of creating a function to check if a number is prime (a common interview exercise).\n",
        "\n",
        "We know a number is said to be prime if that number is only divisible by 1 and itself. Let's write our first version of the function to check all the numbers from 1 to N and perform modulo checks."
      ]
    },
    {
      "cell_type": "code",
      "execution_count": 62,
      "metadata": {
        "id": "uatJxvca98VC"
      },
      "outputs": [],
      "source": [
        "def is_prime(num):\n",
        "  for n in range(2,num):\n",
        "    if num % n ==0:\n",
        "      print('not prime')\n",
        "      break\n",
        "    else:\n",
        "      print('prime')\n",
        "\n",
        ""
      ]
    },
    {
      "cell_type": "code",
      "execution_count": 64,
      "metadata": {
        "colab": {
          "base_uri": "https://localhost:8080/"
        },
        "id": "-_1U0Xen98VC",
        "outputId": "d12d8f00-599b-4531-cd3b-3232fd988a3b"
      },
      "outputs": [
        {
          "output_type": "stream",
          "name": "stdout",
          "text": [
            "prime\n",
            "prime\n",
            "prime\n",
            "prime\n",
            "prime\n",
            "prime\n",
            "prime\n",
            "prime\n",
            "prime\n"
          ]
        }
      ],
      "source": [
        "is_prime(11)"
      ]
    },
    {
      "cell_type": "markdown",
      "metadata": {
        "id": "G0Nwp9dJ98VC"
      },
      "source": [
        "Note that how we break the code after the print statement! We can actually improve this by only checking to the square root of the target number, also we can disregard all even numbers after checking for 2. We'll also switch to returning a boolean value to get an example of using return statements:"
      ]
    },
    {
      "cell_type": "code",
      "execution_count": 68,
      "metadata": {
        "id": "MTmUoM6x98VC"
      },
      "outputs": [],
      "source": [
        "import math\n",
        "def is_prime(num):\n",
        "  if num % 2==0 and num>2:\n",
        "    return False\n",
        "  for i in range(3,int(math.sqrt(num))+ 1,2):\n",
        "    if num % i ==0:\n",
        "      return False\n",
        "  return True\n"
      ]
    },
    {
      "cell_type": "code",
      "execution_count": 71,
      "metadata": {
        "colab": {
          "base_uri": "https://localhost:8080/"
        },
        "id": "0LvOHu5398VD",
        "outputId": "12ed1361-af0f-43b6-be63-31889dec2b8c"
      },
      "outputs": [
        {
          "output_type": "stream",
          "name": "stdout",
          "text": [
            "[3, 5]\n"
          ]
        }
      ],
      "source": [
        "print(list(range(3,6,2)))"
      ]
    },
    {
      "cell_type": "code",
      "execution_count": 72,
      "metadata": {
        "colab": {
          "base_uri": "https://localhost:8080/"
        },
        "id": "IbUPiSmv98VD",
        "outputId": "0090dd43-149b-4ad8-ac55-f2ed2bfacc14"
      },
      "outputs": [
        {
          "output_type": "execute_result",
          "data": {
            "text/plain": [
              "False"
            ]
          },
          "metadata": {},
          "execution_count": 72
        }
      ],
      "source": [
        "is_prime(25)"
      ]
    },
    {
      "cell_type": "markdown",
      "metadata": {
        "id": "iwNd47-E98VD"
      },
      "source": [
        "# Iterators and Generators"
      ]
    },
    {
      "cell_type": "markdown",
      "metadata": {
        "id": "2FyWcH5-98VD"
      },
      "source": [
        "In this section, you will be learning the differences between iterations and generation in Python and also how to construct our own generators with the \"yield\" statement. Generators allow us to generate as we go along instead of storing everything in the memory.\n",
        "\n",
        "We have learned, how to create functions with \"def\" and the \"return\" statement. In Python, Generator function allow us to write a function that can send back a value and then later resume to pick up where it was left. It also allows us to generate a sequence of values over time. The main difference in syntax will be the use of a **yield** statement.\n",
        "\n",
        "In most aspects, a generator function will appear very similar to a normal function. The main difference is when a generator function is called and compiled they become an object that supports an iteration protocol. That means when they are called they don't actually return a value and then exit, the generator functions will automatically suspend and resume their execution and state around the last point of value generation.\n",
        "\n",
        "The main advantage here is \"state suspension\" which means, instead of computing an entire series of values upfront and the generator functions can be suspended. To understand this concept better let's go ahead and learn how to create some generator functions."
      ]
    },
    {
      "cell_type": "code",
      "execution_count": 73,
      "metadata": {
        "id": "ld-gdb5a98VD"
      },
      "outputs": [],
      "source": [
        "# Generator function for the cube of numbers (power of 3)\n",
        "def gencubes(n):\n",
        "  for num in range(n):\n",
        "    yield num**3\n"
      ]
    },
    {
      "cell_type": "code",
      "execution_count": 74,
      "metadata": {
        "scrolled": true,
        "colab": {
          "base_uri": "https://localhost:8080/"
        },
        "id": "2XIUH49A98VD",
        "outputId": "977cb117-dafe-4d3e-8782-36c30751fb38"
      },
      "outputs": [
        {
          "output_type": "stream",
          "name": "stdout",
          "text": [
            "0\n",
            "1\n",
            "8\n",
            "27\n",
            "64\n",
            "125\n",
            "216\n",
            "343\n",
            "512\n",
            "729\n"
          ]
        }
      ],
      "source": [
        "for x in gencubes(10):\n",
        "  print(x)"
      ]
    },
    {
      "cell_type": "markdown",
      "metadata": {
        "id": "3_mM3jAo98VD"
      },
      "source": [
        "Great! since we have a generator function we don't have to keep track of every single cube we created.\n",
        "\n",
        "Generators are the best for calculating large sets of results (particularly in calculations that involve loops themselves) when we don't want to allocate memory for all of the results at the same time.\n",
        "\n",
        "Let's create another sample generator which calculates [fibonacci](https://en.wikipedia.org/wiki/Fibonacci_number) numbers:"
      ]
    },
    {
      "cell_type": "code",
      "execution_count": 75,
      "metadata": {
        "id": "h7uhf5to98VE"
      },
      "outputs": [],
      "source": [
        "def genfibon(n):\n",
        "  a=1\n",
        "  b=1\n",
        "  for i in range(n):\n",
        "    yield a\n",
        "    a,b =b,a+b"
      ]
    },
    {
      "cell_type": "code",
      "execution_count": 76,
      "metadata": {
        "colab": {
          "base_uri": "https://localhost:8080/"
        },
        "id": "kvj6qJj498VE",
        "outputId": "6baea28f-4cdb-4df9-b5a6-43d830a9a9fb"
      },
      "outputs": [
        {
          "output_type": "stream",
          "name": "stdout",
          "text": [
            "1\n",
            "1\n",
            "2\n",
            "3\n",
            "5\n",
            "8\n",
            "13\n",
            "21\n",
            "34\n",
            "55\n"
          ]
        }
      ],
      "source": [
        "for num in genfibon(10):\n",
        "  print(num)"
      ]
    },
    {
      "cell_type": "markdown",
      "metadata": {
        "id": "hT7sKtAy98VE"
      },
      "source": [
        "What if this was a normal function, what would it look like?"
      ]
    },
    {
      "cell_type": "code",
      "execution_count": 77,
      "metadata": {
        "id": "HT2SDXI-98VE"
      },
      "outputs": [],
      "source": [
        "def fibon(n):\n",
        "  a=1\n",
        "  b=1\n",
        "  output=[]\n",
        "  for i in range(n):\n",
        "    output.append(a)\n",
        "    a,b =b,a+b\n",
        "  return output"
      ]
    },
    {
      "cell_type": "code",
      "execution_count": 78,
      "metadata": {
        "colab": {
          "base_uri": "https://localhost:8080/"
        },
        "id": "6KFOheVB98VE",
        "outputId": "7dd91178-9634-48b0-dfea-d469a71697a9"
      },
      "outputs": [
        {
          "output_type": "execute_result",
          "data": {
            "text/plain": [
              "[1, 1, 2, 3, 5, 8, 13, 21, 34, 55]"
            ]
          },
          "metadata": {},
          "execution_count": 78
        }
      ],
      "source": [
        "fibon(10)"
      ]
    },
    {
      "cell_type": "markdown",
      "metadata": {
        "id": "ZjouGcQ998VE"
      },
      "source": [
        "Note, if we call some huge value of \"n\", the second function will have to keep track of every single result. In our case, we only care about the previous result to generate the next one.\n",
        "\n",
        "\n",
        "## next() and iter() built-in functions\n",
        "\n",
        "A key to fully understand generators is the next() and the iter() function.\n",
        "\n",
        "The next function allows us to access the next element in a sequence. Let's check how it works."
      ]
    },
    {
      "cell_type": "code",
      "execution_count": 79,
      "metadata": {
        "id": "e5sBxZ4c98VF"
      },
      "outputs": [],
      "source": [
        "def simple_gen():\n",
        "  for x in range(3):\n",
        "    yield x"
      ]
    },
    {
      "cell_type": "code",
      "execution_count": 85,
      "metadata": {
        "colab": {
          "base_uri": "https://localhost:8080/"
        },
        "id": "QRlGQ-0Q98VF",
        "outputId": "d2376c4e-fdd3-406b-f6bd-eb70be70a5e7"
      },
      "outputs": [
        {
          "output_type": "stream",
          "name": "stdout",
          "text": [
            "[0, 1, 2]\n"
          ]
        }
      ],
      "source": [
        "print(list(range(3)))"
      ]
    },
    {
      "cell_type": "code",
      "execution_count": 86,
      "metadata": {
        "id": "CrhGHlne98VF"
      },
      "outputs": [],
      "source": [
        "# Assign simple_gen\n",
        "g=simple_gen()"
      ]
    },
    {
      "cell_type": "code",
      "execution_count": 87,
      "metadata": {
        "colab": {
          "base_uri": "https://localhost:8080/"
        },
        "id": "Np1Udv0098VF",
        "outputId": "05e5c9ba-40d2-46cf-a077-ca39fc5216b8"
      },
      "outputs": [
        {
          "output_type": "stream",
          "name": "stdout",
          "text": [
            "0\n"
          ]
        }
      ],
      "source": [
        "print(next(g))"
      ]
    },
    {
      "cell_type": "code",
      "execution_count": 88,
      "metadata": {
        "colab": {
          "base_uri": "https://localhost:8080/"
        },
        "id": "OpefaG_F98VF",
        "outputId": "a9600865-60d5-4fee-81bf-81d366f5a7e0"
      },
      "outputs": [
        {
          "output_type": "stream",
          "name": "stdout",
          "text": [
            "1\n"
          ]
        }
      ],
      "source": [
        "print(next(g))"
      ]
    },
    {
      "cell_type": "code",
      "execution_count": 89,
      "metadata": {
        "colab": {
          "base_uri": "https://localhost:8080/"
        },
        "id": "4vShJ00G98VF",
        "outputId": "1741de82-a3b3-4c61-e89f-e4bd9975f326"
      },
      "outputs": [
        {
          "output_type": "stream",
          "name": "stdout",
          "text": [
            "2\n"
          ]
        }
      ],
      "source": [
        "print(next(g))"
      ]
    },
    {
      "cell_type": "code",
      "execution_count": 90,
      "metadata": {
        "colab": {
          "base_uri": "https://localhost:8080/",
          "height": 141
        },
        "id": "DDRgBvk098VF",
        "outputId": "1f3f425f-aeef-4ba0-c7cb-925ef7af5d8b"
      },
      "outputs": [
        {
          "output_type": "error",
          "ename": "StopIteration",
          "evalue": "",
          "traceback": [
            "\u001b[0;31m---------------------------------------------------------------------------\u001b[0m",
            "\u001b[0;31mStopIteration\u001b[0m                             Traceback (most recent call last)",
            "\u001b[0;32m<ipython-input-90-1dfb29d6357e>\u001b[0m in \u001b[0;36m<cell line: 0>\u001b[0;34m()\u001b[0m\n\u001b[0;32m----> 1\u001b[0;31m \u001b[0mprint\u001b[0m\u001b[0;34m(\u001b[0m\u001b[0mnext\u001b[0m\u001b[0;34m(\u001b[0m\u001b[0mg\u001b[0m\u001b[0;34m)\u001b[0m\u001b[0;34m)\u001b[0m\u001b[0;34m\u001b[0m\u001b[0;34m\u001b[0m\u001b[0m\n\u001b[0m",
            "\u001b[0;31mStopIteration\u001b[0m: "
          ]
        }
      ],
      "source": [
        "print(next(g))"
      ]
    },
    {
      "cell_type": "markdown",
      "metadata": {
        "id": "px4dF8xg98VG"
      },
      "source": [
        "After yielding all the values next() caused a StopIteration error. What this error informs us that all the values have been yielded.\n",
        "\n",
        "You might be wondering that why don’t we get this error while using a for loop? The \"for loop\" automatically catches this error and stops calling next.\n",
        "\n",
        "Let's go ahead and check out how to use iter(). You remember that strings are iterable:"
      ]
    },
    {
      "cell_type": "code",
      "execution_count": 91,
      "metadata": {
        "colab": {
          "base_uri": "https://localhost:8080/"
        },
        "id": "QLSCNgjR98VG",
        "outputId": "377dba4b-a2dd-413e-9a08-9aa6195e9228"
      },
      "outputs": [
        {
          "output_type": "stream",
          "name": "stdout",
          "text": [
            "h\n",
            "e\n",
            "l\n",
            "l\n",
            "o\n"
          ]
        }
      ],
      "source": [
        "s='hello'\n",
        "\n",
        "#Iterate over string\n",
        "for let in s:\n",
        "  print(let)"
      ]
    },
    {
      "cell_type": "markdown",
      "metadata": {
        "id": "E3LVX2Wv98VH"
      },
      "source": [
        "But that doesn't mean the string itself is an *iterator*! We can check this with the next() function:"
      ]
    },
    {
      "cell_type": "code",
      "execution_count": 93,
      "metadata": {
        "colab": {
          "base_uri": "https://localhost:8080/",
          "height": 141
        },
        "id": "yoZGgnao98VH",
        "outputId": "01be1428-b5bf-41a6-8d5a-854cd0909e09"
      },
      "outputs": [
        {
          "output_type": "error",
          "ename": "TypeError",
          "evalue": "'str' object is not an iterator",
          "traceback": [
            "\u001b[0;31m---------------------------------------------------------------------------\u001b[0m",
            "\u001b[0;31mTypeError\u001b[0m                                 Traceback (most recent call last)",
            "\u001b[0;32m<ipython-input-93-61c30b5fe1d5>\u001b[0m in \u001b[0;36m<cell line: 0>\u001b[0;34m()\u001b[0m\n\u001b[0;32m----> 1\u001b[0;31m \u001b[0mnext\u001b[0m\u001b[0;34m(\u001b[0m\u001b[0ms\u001b[0m\u001b[0;34m)\u001b[0m\u001b[0;34m\u001b[0m\u001b[0;34m\u001b[0m\u001b[0m\n\u001b[0m",
            "\u001b[0;31mTypeError\u001b[0m: 'str' object is not an iterator"
          ]
        }
      ],
      "source": [
        "next(s)"
      ]
    },
    {
      "cell_type": "markdown",
      "metadata": {
        "id": "g29P7gBH98VH"
      },
      "source": [
        "This means that a string object supports iteration, but we can not directly iterate over it as we could with a generator function. The iter() function allows us to do just that!"
      ]
    },
    {
      "cell_type": "code",
      "execution_count": 94,
      "metadata": {
        "id": "TUtsSWFn98VI"
      },
      "outputs": [],
      "source": [
        "s_iter=iter(s)"
      ]
    },
    {
      "cell_type": "code",
      "execution_count": 95,
      "metadata": {
        "colab": {
          "base_uri": "https://localhost:8080/",
          "height": 35
        },
        "id": "rIYB0Y7X98VI",
        "outputId": "cf513a67-2805-473b-8ece-3b5013674024"
      },
      "outputs": [
        {
          "output_type": "execute_result",
          "data": {
            "text/plain": [
              "'h'"
            ],
            "application/vnd.google.colaboratory.intrinsic+json": {
              "type": "string"
            }
          },
          "metadata": {},
          "execution_count": 95
        }
      ],
      "source": [
        "next(s_iter)"
      ]
    },
    {
      "cell_type": "code",
      "execution_count": 96,
      "metadata": {
        "colab": {
          "base_uri": "https://localhost:8080/",
          "height": 35
        },
        "id": "25j62ifB98VI",
        "outputId": "22354872-23ac-4bc4-e0f0-1cc8bc3e65f7"
      },
      "outputs": [
        {
          "output_type": "execute_result",
          "data": {
            "text/plain": [
              "'e'"
            ],
            "application/vnd.google.colaboratory.intrinsic+json": {
              "type": "string"
            }
          },
          "metadata": {},
          "execution_count": 96
        }
      ],
      "source": [
        "next(s_iter)"
      ]
    },
    {
      "cell_type": "markdown",
      "metadata": {
        "id": "vqNo_4F298VI"
      },
      "source": [
        "# map()\n",
        "\n",
        "The map() is a function that takes in two arguments:\n",
        "1. A function\n",
        "2. A sequence iterable.\n",
        "\n",
        "In the form: map(function, sequence)\n",
        "    \n",
        "The first argument is the name of a function and the second a sequence (e.g. a list). map() applies the function to all the elements of the sequence. It returns a new list with the elements changed by the function.\n",
        "\n",
        "When we went over list comprehension we created a small expression to convert Fahrenheit to Celsius. Let's do the same here but use map.\n",
        "\n",
        "We'll start with two functions:"
      ]
    },
    {
      "cell_type": "code",
      "execution_count": 102,
      "metadata": {
        "id": "mF8MHo5f98VI"
      },
      "outputs": [],
      "source": [
        "def fahrenheit(T):\n",
        "  return((float(9)/5)*T +32)\n",
        "def celsius(T):\n",
        "  return(float(5)/9)*(t-32)\n",
        "\n",
        "temp=[0,22.5,40,100]"
      ]
    },
    {
      "cell_type": "markdown",
      "metadata": {
        "id": "1Z4rNAG-98VI"
      },
      "source": [
        "Now let's see map() in action:"
      ]
    },
    {
      "cell_type": "code",
      "execution_count": 103,
      "metadata": {
        "colab": {
          "base_uri": "https://localhost:8080/"
        },
        "id": "YsvP_3Q598VJ",
        "outputId": "2009d87b-3fac-4630-9294-4a80ba2614c0"
      },
      "outputs": [
        {
          "output_type": "execute_result",
          "data": {
            "text/plain": [
              "[32.0, 72.5, 104.0, 212.0]"
            ]
          },
          "metadata": {},
          "execution_count": 103
        }
      ],
      "source": [
        "F_temps=list(map(fahrenheit,temp))\n",
        "#Show\n",
        "F_temps\n"
      ]
    },
    {
      "cell_type": "code",
      "execution_count": 107,
      "metadata": {
        "colab": {
          "base_uri": "https://localhost:8080/"
        },
        "id": "Hq8AKajM98VJ",
        "outputId": "59af8260-3958-4083-8ac5-76994ee19246"
      },
      "outputs": [
        {
          "output_type": "stream",
          "name": "stdout",
          "text": [
            "<map object at 0x7e3501631e70>\n"
          ]
        }
      ],
      "source": [
        "# Convert back\n",
        "print(map(celsius, F_temps))"
      ]
    },
    {
      "cell_type": "markdown",
      "metadata": {
        "id": "lS81J0PR98VJ"
      },
      "source": [
        "In the example above, we haven't used a lambda expression. By using lambda, it is not necessary to define and name fahrenheit() and celsius() functions."
      ]
    },
    {
      "cell_type": "code",
      "execution_count": 109,
      "metadata": {
        "colab": {
          "base_uri": "https://localhost:8080/"
        },
        "id": "HHOE3N7n98VJ",
        "outputId": "993618c0-3ba6-4076-a16c-60cadb1a2cde"
      },
      "outputs": [
        {
          "output_type": "execute_result",
          "data": {
            "text/plain": [
              "[0.0, 22.5, 40.0, 100.0]"
            ]
          },
          "metadata": {},
          "execution_count": 109
        }
      ],
      "source": [
        "list(map(lambda x:(5.0/9)*(x-32),F_temps))"
      ]
    },
    {
      "cell_type": "markdown",
      "metadata": {
        "id": "8ExbgKP198VJ"
      },
      "source": [
        "Map is more commonly used with lambda expressions since the entire purpose of a map() is to save effort on creating manual for loops."
      ]
    },
    {
      "cell_type": "markdown",
      "metadata": {
        "id": "snLFYe1O98VJ"
      },
      "source": [
        "map() can be applied to more than one iterable. The iterables must have the same length.\n",
        "\n",
        "For instance, if we are working with two lists-map() will apply its lambda function to the elements of the argument lists, i.e. it first applies to the elements with the 0th index, then to the elements with the 1st index until the nth index is reached.\n",
        "\n",
        "For example, let's map a lambda expression to two lists:"
      ]
    },
    {
      "cell_type": "code",
      "execution_count": 113,
      "metadata": {
        "colab": {
          "base_uri": "https://localhost:8080/"
        },
        "id": "4z-nSrCk98VK",
        "outputId": "915dd87b-9567-40dc-ad76-b2681ae1ad1f"
      },
      "outputs": [
        {
          "output_type": "execute_result",
          "data": {
            "text/plain": [
              "[6, 8, 10, 12]"
            ]
          },
          "metadata": {},
          "execution_count": 113
        }
      ],
      "source": [
        "a=[1,2,3,4]\n",
        "b=[5,6,7,8]\n",
        "c=[9,10,11,12]\n",
        "\n",
        "list(map(lambda x,y:x+y, a,b,))"
      ]
    },
    {
      "cell_type": "code",
      "execution_count": 114,
      "metadata": {
        "colab": {
          "base_uri": "https://localhost:8080/"
        },
        "id": "gk3Kx1Pu98VK",
        "outputId": "f0d52f12-cf78-423e-f908-821d778829bc"
      },
      "outputs": [
        {
          "output_type": "execute_result",
          "data": {
            "text/plain": [
              "[15, 18, 21, 24]"
            ]
          },
          "metadata": {},
          "execution_count": 114
        }
      ],
      "source": [
        "# Now all three lists\n",
        "list(map(lambda x,y,z:x+y+z, a,b,c))"
      ]
    },
    {
      "cell_type": "markdown",
      "metadata": {
        "id": "EkA7IAA-98VK"
      },
      "source": [
        "In the above example, the parameter 'x' gets its values from the list 'a', while 'y' gets its values from 'b' and 'z' from list 'c'. Go ahead and create your own example to make sure that you completely understand mapping more than one iterable."
      ]
    },
    {
      "cell_type": "markdown",
      "metadata": {
        "id": "Xwai_ECx98VK"
      },
      "source": [
        "# reduce()\n",
        "\n",
        "The function reduce(function, sequence) continually applies the function to the sequence. It then returns a single value.\n",
        "\n",
        "If seq = [s1, s2, s3, ... , sn], calling reduce(function, sequence) works like this:\n",
        "\n",
        "* At first the first two elements of sequence will be applied to function, i.e. func(s1,s2)\n",
        "* The list on which reduce() works looks like this: [ function(s1, s2), s3, ... , sn ]\n",
        "* In the next step the function will be applied on the previous result and the third element of the list, i.e. function(function(s1, s2),s3)\n",
        "* The list looks like: [ function(function(s1, s2),s3), ... , sn ]\n",
        "* It continues like this until just one element is left and return this element as the result of reduce()\n",
        "\n",
        "Let's see an example:"
      ]
    },
    {
      "cell_type": "code",
      "execution_count": 115,
      "metadata": {
        "colab": {
          "base_uri": "https://localhost:8080/"
        },
        "id": "XAOm0mQp98VK",
        "outputId": "2aef23a5-d6e4-400c-f310-2bc935341023"
      },
      "outputs": [
        {
          "output_type": "execute_result",
          "data": {
            "text/plain": [
              "113"
            ]
          },
          "metadata": {},
          "execution_count": 115
        }
      ],
      "source": [
        "from functools import reduce\n",
        "lst=[47,11,42,13]\n",
        "reduce(lambda x,y:x+y ,lst)"
      ]
    },
    {
      "cell_type": "markdown",
      "metadata": {
        "id": "k_1mIHb198VL"
      },
      "source": [
        "Let's look at a diagram to get a better understanding of what is going on here:"
      ]
    },
    {
      "cell_type": "code",
      "execution_count": 117,
      "metadata": {
        "colab": {
          "base_uri": "https://localhost:8080/",
          "height": 304
        },
        "id": "DyBeFHvo98VL",
        "outputId": "13dd4c96-350a-45ae-bfa5-3e35532a13c1"
      },
      "outputs": [
        {
          "output_type": "error",
          "ename": "HTTPError",
          "evalue": "HTTP Error 403: Forbidden",
          "traceback": [
            "\u001b[0;31m---------------------------------------------------------------------------\u001b[0m",
            "\u001b[0;31mHTTPError\u001b[0m                                 Traceback (most recent call last)",
            "\u001b[0;32m<ipython-input-117-8effb6b4824d>\u001b[0m in \u001b[0;36m<cell line: 0>\u001b[0;34m()\u001b[0m\n\u001b[1;32m      1\u001b[0m \u001b[0;32mfrom\u001b[0m \u001b[0mIPython\u001b[0m\u001b[0;34m.\u001b[0m\u001b[0mdisplay\u001b[0m \u001b[0;32mimport\u001b[0m \u001b[0mImage\u001b[0m\u001b[0;34m\u001b[0m\u001b[0;34m\u001b[0m\u001b[0m\n\u001b[0;32m----> 2\u001b[0;31m \u001b[0mImage\u001b[0m\u001b[0;34m(\u001b[0m\u001b[0;34m'http://www.python-course.eu/images/reduce_diagram.png'\u001b[0m\u001b[0;34m)\u001b[0m\u001b[0;34m\u001b[0m\u001b[0;34m\u001b[0m\u001b[0m\n\u001b[0m",
            "\u001b[0;32m/usr/local/lib/python3.11/dist-packages/IPython/core/display.py\u001b[0m in \u001b[0;36m__init__\u001b[0;34m(self, data, url, filename, format, embed, width, height, retina, unconfined, metadata)\u001b[0m\n\u001b[1;32m   1229\u001b[0m         \u001b[0mself\u001b[0m\u001b[0;34m.\u001b[0m\u001b[0mretina\u001b[0m \u001b[0;34m=\u001b[0m \u001b[0mretina\u001b[0m\u001b[0;34m\u001b[0m\u001b[0;34m\u001b[0m\u001b[0m\n\u001b[1;32m   1230\u001b[0m         \u001b[0mself\u001b[0m\u001b[0;34m.\u001b[0m\u001b[0munconfined\u001b[0m \u001b[0;34m=\u001b[0m \u001b[0munconfined\u001b[0m\u001b[0;34m\u001b[0m\u001b[0;34m\u001b[0m\u001b[0m\n\u001b[0;32m-> 1231\u001b[0;31m         super(Image, self).__init__(data=data, url=url, filename=filename, \n\u001b[0m\u001b[1;32m   1232\u001b[0m                 metadata=metadata)\n\u001b[1;32m   1233\u001b[0m \u001b[0;34m\u001b[0m\u001b[0m\n",
            "\u001b[0;32m/usr/local/lib/python3.11/dist-packages/IPython/core/display.py\u001b[0m in \u001b[0;36m__init__\u001b[0;34m(self, data, url, filename, metadata)\u001b[0m\n\u001b[1;32m    635\u001b[0m             \u001b[0mself\u001b[0m\u001b[0;34m.\u001b[0m\u001b[0mmetadata\u001b[0m \u001b[0;34m=\u001b[0m \u001b[0;34m{\u001b[0m\u001b[0;34m}\u001b[0m\u001b[0;34m\u001b[0m\u001b[0;34m\u001b[0m\u001b[0m\n\u001b[1;32m    636\u001b[0m \u001b[0;34m\u001b[0m\u001b[0m\n\u001b[0;32m--> 637\u001b[0;31m         \u001b[0mself\u001b[0m\u001b[0;34m.\u001b[0m\u001b[0mreload\u001b[0m\u001b[0;34m(\u001b[0m\u001b[0;34m)\u001b[0m\u001b[0;34m\u001b[0m\u001b[0;34m\u001b[0m\u001b[0m\n\u001b[0m\u001b[1;32m    638\u001b[0m         \u001b[0mself\u001b[0m\u001b[0;34m.\u001b[0m\u001b[0m_check_data\u001b[0m\u001b[0;34m(\u001b[0m\u001b[0;34m)\u001b[0m\u001b[0;34m\u001b[0m\u001b[0;34m\u001b[0m\u001b[0m\n\u001b[1;32m    639\u001b[0m \u001b[0;34m\u001b[0m\u001b[0m\n",
            "\u001b[0;32m/usr/local/lib/python3.11/dist-packages/IPython/core/display.py\u001b[0m in \u001b[0;36mreload\u001b[0;34m(self)\u001b[0m\n\u001b[1;32m   1261\u001b[0m         \u001b[0;34m\"\"\"Reload the raw data from file or URL.\"\"\"\u001b[0m\u001b[0;34m\u001b[0m\u001b[0;34m\u001b[0m\u001b[0m\n\u001b[1;32m   1262\u001b[0m         \u001b[0;32mif\u001b[0m \u001b[0mself\u001b[0m\u001b[0;34m.\u001b[0m\u001b[0membed\u001b[0m\u001b[0;34m:\u001b[0m\u001b[0;34m\u001b[0m\u001b[0;34m\u001b[0m\u001b[0m\n\u001b[0;32m-> 1263\u001b[0;31m             \u001b[0msuper\u001b[0m\u001b[0;34m(\u001b[0m\u001b[0mImage\u001b[0m\u001b[0;34m,\u001b[0m\u001b[0mself\u001b[0m\u001b[0;34m)\u001b[0m\u001b[0;34m.\u001b[0m\u001b[0mreload\u001b[0m\u001b[0;34m(\u001b[0m\u001b[0;34m)\u001b[0m\u001b[0;34m\u001b[0m\u001b[0;34m\u001b[0m\u001b[0m\n\u001b[0m\u001b[1;32m   1264\u001b[0m             \u001b[0;32mif\u001b[0m \u001b[0mself\u001b[0m\u001b[0;34m.\u001b[0m\u001b[0mretina\u001b[0m\u001b[0;34m:\u001b[0m\u001b[0;34m\u001b[0m\u001b[0;34m\u001b[0m\u001b[0m\n\u001b[1;32m   1265\u001b[0m                 \u001b[0mself\u001b[0m\u001b[0;34m.\u001b[0m\u001b[0m_retina_shape\u001b[0m\u001b[0;34m(\u001b[0m\u001b[0;34m)\u001b[0m\u001b[0;34m\u001b[0m\u001b[0;34m\u001b[0m\u001b[0m\n",
            "\u001b[0;32m/usr/local/lib/python3.11/dist-packages/IPython/core/display.py\u001b[0m in \u001b[0;36mreload\u001b[0;34m(self)\u001b[0m\n\u001b[1;32m    665\u001b[0m             \u001b[0;31m# Deferred import\u001b[0m\u001b[0;34m\u001b[0m\u001b[0;34m\u001b[0m\u001b[0m\n\u001b[1;32m    666\u001b[0m             \u001b[0;32mfrom\u001b[0m \u001b[0murllib\u001b[0m\u001b[0;34m.\u001b[0m\u001b[0mrequest\u001b[0m \u001b[0;32mimport\u001b[0m \u001b[0murlopen\u001b[0m\u001b[0;34m\u001b[0m\u001b[0;34m\u001b[0m\u001b[0m\n\u001b[0;32m--> 667\u001b[0;31m             \u001b[0mresponse\u001b[0m \u001b[0;34m=\u001b[0m \u001b[0murlopen\u001b[0m\u001b[0;34m(\u001b[0m\u001b[0mself\u001b[0m\u001b[0;34m.\u001b[0m\u001b[0murl\u001b[0m\u001b[0;34m)\u001b[0m\u001b[0;34m\u001b[0m\u001b[0;34m\u001b[0m\u001b[0m\n\u001b[0m\u001b[1;32m    668\u001b[0m             \u001b[0mdata\u001b[0m \u001b[0;34m=\u001b[0m \u001b[0mresponse\u001b[0m\u001b[0;34m.\u001b[0m\u001b[0mread\u001b[0m\u001b[0;34m(\u001b[0m\u001b[0;34m)\u001b[0m\u001b[0;34m\u001b[0m\u001b[0;34m\u001b[0m\u001b[0m\n\u001b[1;32m    669\u001b[0m             \u001b[0;31m# extract encoding from header, if there is one:\u001b[0m\u001b[0;34m\u001b[0m\u001b[0;34m\u001b[0m\u001b[0m\n",
            "\u001b[0;32m/usr/lib/python3.11/urllib/request.py\u001b[0m in \u001b[0;36murlopen\u001b[0;34m(url, data, timeout, cafile, capath, cadefault, context)\u001b[0m\n\u001b[1;32m    214\u001b[0m     \u001b[0;32melse\u001b[0m\u001b[0;34m:\u001b[0m\u001b[0;34m\u001b[0m\u001b[0;34m\u001b[0m\u001b[0m\n\u001b[1;32m    215\u001b[0m         \u001b[0mopener\u001b[0m \u001b[0;34m=\u001b[0m \u001b[0m_opener\u001b[0m\u001b[0;34m\u001b[0m\u001b[0;34m\u001b[0m\u001b[0m\n\u001b[0;32m--> 216\u001b[0;31m     \u001b[0;32mreturn\u001b[0m \u001b[0mopener\u001b[0m\u001b[0;34m.\u001b[0m\u001b[0mopen\u001b[0m\u001b[0;34m(\u001b[0m\u001b[0murl\u001b[0m\u001b[0;34m,\u001b[0m \u001b[0mdata\u001b[0m\u001b[0;34m,\u001b[0m \u001b[0mtimeout\u001b[0m\u001b[0;34m)\u001b[0m\u001b[0;34m\u001b[0m\u001b[0;34m\u001b[0m\u001b[0m\n\u001b[0m\u001b[1;32m    217\u001b[0m \u001b[0;34m\u001b[0m\u001b[0m\n\u001b[1;32m    218\u001b[0m \u001b[0;32mdef\u001b[0m \u001b[0minstall_opener\u001b[0m\u001b[0;34m(\u001b[0m\u001b[0mopener\u001b[0m\u001b[0;34m)\u001b[0m\u001b[0;34m:\u001b[0m\u001b[0;34m\u001b[0m\u001b[0;34m\u001b[0m\u001b[0m\n",
            "\u001b[0;32m/usr/lib/python3.11/urllib/request.py\u001b[0m in \u001b[0;36mopen\u001b[0;34m(self, fullurl, data, timeout)\u001b[0m\n\u001b[1;32m    523\u001b[0m         \u001b[0;32mfor\u001b[0m \u001b[0mprocessor\u001b[0m \u001b[0;32min\u001b[0m \u001b[0mself\u001b[0m\u001b[0;34m.\u001b[0m\u001b[0mprocess_response\u001b[0m\u001b[0;34m.\u001b[0m\u001b[0mget\u001b[0m\u001b[0;34m(\u001b[0m\u001b[0mprotocol\u001b[0m\u001b[0;34m,\u001b[0m \u001b[0;34m[\u001b[0m\u001b[0;34m]\u001b[0m\u001b[0;34m)\u001b[0m\u001b[0;34m:\u001b[0m\u001b[0;34m\u001b[0m\u001b[0;34m\u001b[0m\u001b[0m\n\u001b[1;32m    524\u001b[0m             \u001b[0mmeth\u001b[0m \u001b[0;34m=\u001b[0m \u001b[0mgetattr\u001b[0m\u001b[0;34m(\u001b[0m\u001b[0mprocessor\u001b[0m\u001b[0;34m,\u001b[0m \u001b[0mmeth_name\u001b[0m\u001b[0;34m)\u001b[0m\u001b[0;34m\u001b[0m\u001b[0;34m\u001b[0m\u001b[0m\n\u001b[0;32m--> 525\u001b[0;31m             \u001b[0mresponse\u001b[0m \u001b[0;34m=\u001b[0m \u001b[0mmeth\u001b[0m\u001b[0;34m(\u001b[0m\u001b[0mreq\u001b[0m\u001b[0;34m,\u001b[0m \u001b[0mresponse\u001b[0m\u001b[0;34m)\u001b[0m\u001b[0;34m\u001b[0m\u001b[0;34m\u001b[0m\u001b[0m\n\u001b[0m\u001b[1;32m    526\u001b[0m \u001b[0;34m\u001b[0m\u001b[0m\n\u001b[1;32m    527\u001b[0m         \u001b[0;32mreturn\u001b[0m \u001b[0mresponse\u001b[0m\u001b[0;34m\u001b[0m\u001b[0;34m\u001b[0m\u001b[0m\n",
            "\u001b[0;32m/usr/lib/python3.11/urllib/request.py\u001b[0m in \u001b[0;36mhttp_response\u001b[0;34m(self, request, response)\u001b[0m\n\u001b[1;32m    632\u001b[0m         \u001b[0;31m# request was successfully received, understood, and accepted.\u001b[0m\u001b[0;34m\u001b[0m\u001b[0;34m\u001b[0m\u001b[0m\n\u001b[1;32m    633\u001b[0m         \u001b[0;32mif\u001b[0m \u001b[0;32mnot\u001b[0m \u001b[0;34m(\u001b[0m\u001b[0;36m200\u001b[0m \u001b[0;34m<=\u001b[0m \u001b[0mcode\u001b[0m \u001b[0;34m<\u001b[0m \u001b[0;36m300\u001b[0m\u001b[0;34m)\u001b[0m\u001b[0;34m:\u001b[0m\u001b[0;34m\u001b[0m\u001b[0;34m\u001b[0m\u001b[0m\n\u001b[0;32m--> 634\u001b[0;31m             response = self.parent.error(\n\u001b[0m\u001b[1;32m    635\u001b[0m                 'http', request, response, code, msg, hdrs)\n\u001b[1;32m    636\u001b[0m \u001b[0;34m\u001b[0m\u001b[0m\n",
            "\u001b[0;32m/usr/lib/python3.11/urllib/request.py\u001b[0m in \u001b[0;36merror\u001b[0;34m(self, proto, *args)\u001b[0m\n\u001b[1;32m    561\u001b[0m         \u001b[0;32mif\u001b[0m \u001b[0mhttp_err\u001b[0m\u001b[0;34m:\u001b[0m\u001b[0;34m\u001b[0m\u001b[0;34m\u001b[0m\u001b[0m\n\u001b[1;32m    562\u001b[0m             \u001b[0margs\u001b[0m \u001b[0;34m=\u001b[0m \u001b[0;34m(\u001b[0m\u001b[0mdict\u001b[0m\u001b[0;34m,\u001b[0m \u001b[0;34m'default'\u001b[0m\u001b[0;34m,\u001b[0m \u001b[0;34m'http_error_default'\u001b[0m\u001b[0;34m)\u001b[0m \u001b[0;34m+\u001b[0m \u001b[0morig_args\u001b[0m\u001b[0;34m\u001b[0m\u001b[0;34m\u001b[0m\u001b[0m\n\u001b[0;32m--> 563\u001b[0;31m             \u001b[0;32mreturn\u001b[0m \u001b[0mself\u001b[0m\u001b[0;34m.\u001b[0m\u001b[0m_call_chain\u001b[0m\u001b[0;34m(\u001b[0m\u001b[0;34m*\u001b[0m\u001b[0margs\u001b[0m\u001b[0;34m)\u001b[0m\u001b[0;34m\u001b[0m\u001b[0;34m\u001b[0m\u001b[0m\n\u001b[0m\u001b[1;32m    564\u001b[0m \u001b[0;34m\u001b[0m\u001b[0m\n\u001b[1;32m    565\u001b[0m \u001b[0;31m# XXX probably also want an abstract factory that knows when it makes\u001b[0m\u001b[0;34m\u001b[0m\u001b[0;34m\u001b[0m\u001b[0m\n",
            "\u001b[0;32m/usr/lib/python3.11/urllib/request.py\u001b[0m in \u001b[0;36m_call_chain\u001b[0;34m(self, chain, kind, meth_name, *args)\u001b[0m\n\u001b[1;32m    494\u001b[0m         \u001b[0;32mfor\u001b[0m \u001b[0mhandler\u001b[0m \u001b[0;32min\u001b[0m \u001b[0mhandlers\u001b[0m\u001b[0;34m:\u001b[0m\u001b[0;34m\u001b[0m\u001b[0;34m\u001b[0m\u001b[0m\n\u001b[1;32m    495\u001b[0m             \u001b[0mfunc\u001b[0m \u001b[0;34m=\u001b[0m \u001b[0mgetattr\u001b[0m\u001b[0;34m(\u001b[0m\u001b[0mhandler\u001b[0m\u001b[0;34m,\u001b[0m \u001b[0mmeth_name\u001b[0m\u001b[0;34m)\u001b[0m\u001b[0;34m\u001b[0m\u001b[0;34m\u001b[0m\u001b[0m\n\u001b[0;32m--> 496\u001b[0;31m             \u001b[0mresult\u001b[0m \u001b[0;34m=\u001b[0m \u001b[0mfunc\u001b[0m\u001b[0;34m(\u001b[0m\u001b[0;34m*\u001b[0m\u001b[0margs\u001b[0m\u001b[0;34m)\u001b[0m\u001b[0;34m\u001b[0m\u001b[0;34m\u001b[0m\u001b[0m\n\u001b[0m\u001b[1;32m    497\u001b[0m             \u001b[0;32mif\u001b[0m \u001b[0mresult\u001b[0m \u001b[0;32mis\u001b[0m \u001b[0;32mnot\u001b[0m \u001b[0;32mNone\u001b[0m\u001b[0;34m:\u001b[0m\u001b[0;34m\u001b[0m\u001b[0;34m\u001b[0m\u001b[0m\n\u001b[1;32m    498\u001b[0m                 \u001b[0;32mreturn\u001b[0m \u001b[0mresult\u001b[0m\u001b[0;34m\u001b[0m\u001b[0;34m\u001b[0m\u001b[0m\n",
            "\u001b[0;32m/usr/lib/python3.11/urllib/request.py\u001b[0m in \u001b[0;36mhttp_error_default\u001b[0;34m(self, req, fp, code, msg, hdrs)\u001b[0m\n\u001b[1;32m    641\u001b[0m \u001b[0;32mclass\u001b[0m \u001b[0mHTTPDefaultErrorHandler\u001b[0m\u001b[0;34m(\u001b[0m\u001b[0mBaseHandler\u001b[0m\u001b[0;34m)\u001b[0m\u001b[0;34m:\u001b[0m\u001b[0;34m\u001b[0m\u001b[0;34m\u001b[0m\u001b[0m\n\u001b[1;32m    642\u001b[0m     \u001b[0;32mdef\u001b[0m \u001b[0mhttp_error_default\u001b[0m\u001b[0;34m(\u001b[0m\u001b[0mself\u001b[0m\u001b[0;34m,\u001b[0m \u001b[0mreq\u001b[0m\u001b[0;34m,\u001b[0m \u001b[0mfp\u001b[0m\u001b[0;34m,\u001b[0m \u001b[0mcode\u001b[0m\u001b[0;34m,\u001b[0m \u001b[0mmsg\u001b[0m\u001b[0;34m,\u001b[0m \u001b[0mhdrs\u001b[0m\u001b[0;34m)\u001b[0m\u001b[0;34m:\u001b[0m\u001b[0;34m\u001b[0m\u001b[0;34m\u001b[0m\u001b[0m\n\u001b[0;32m--> 643\u001b[0;31m         \u001b[0;32mraise\u001b[0m \u001b[0mHTTPError\u001b[0m\u001b[0;34m(\u001b[0m\u001b[0mreq\u001b[0m\u001b[0;34m.\u001b[0m\u001b[0mfull_url\u001b[0m\u001b[0;34m,\u001b[0m \u001b[0mcode\u001b[0m\u001b[0;34m,\u001b[0m \u001b[0mmsg\u001b[0m\u001b[0;34m,\u001b[0m \u001b[0mhdrs\u001b[0m\u001b[0;34m,\u001b[0m \u001b[0mfp\u001b[0m\u001b[0;34m)\u001b[0m\u001b[0;34m\u001b[0m\u001b[0;34m\u001b[0m\u001b[0m\n\u001b[0m\u001b[1;32m    644\u001b[0m \u001b[0;34m\u001b[0m\u001b[0m\n\u001b[1;32m    645\u001b[0m \u001b[0;32mclass\u001b[0m \u001b[0mHTTPRedirectHandler\u001b[0m\u001b[0;34m(\u001b[0m\u001b[0mBaseHandler\u001b[0m\u001b[0;34m)\u001b[0m\u001b[0;34m:\u001b[0m\u001b[0;34m\u001b[0m\u001b[0;34m\u001b[0m\u001b[0m\n",
            "\u001b[0;31mHTTPError\u001b[0m: HTTP Error 403: Forbidden"
          ]
        }
      ],
      "source": [
        "from IPython.display import Image\n",
        "Image('http://www.python-course.eu/images/reduce_diagram.png')"
      ]
    },
    {
      "cell_type": "markdown",
      "metadata": {
        "id": "1qbYNQEg98VL"
      },
      "source": [
        "Note how we keep reducing the sequence until a single final value is obtained. Let's see another example:"
      ]
    },
    {
      "cell_type": "code",
      "execution_count": 118,
      "metadata": {
        "id": "I8IOF1x798VL"
      },
      "outputs": [],
      "source": [
        "#Find the maximum of a sequence (This already exists as max())\n",
        "max_find=lambda a,b:a if(a>b) else b"
      ]
    },
    {
      "cell_type": "code",
      "execution_count": 119,
      "metadata": {
        "colab": {
          "base_uri": "https://localhost:8080/"
        },
        "id": "toqzGbe198VL",
        "outputId": "60a7a037-e198-4679-c9b5-8b750a6cddf2"
      },
      "outputs": [
        {
          "output_type": "execute_result",
          "data": {
            "text/plain": [
              "47"
            ]
          },
          "metadata": {},
          "execution_count": 119
        }
      ],
      "source": [
        "#Find max\n",
        "reduce(max_find,lst)"
      ]
    },
    {
      "cell_type": "markdown",
      "metadata": {
        "id": "lLSNKQZF98VM"
      },
      "source": [
        "# filter\n",
        "\n",
        "The function filter(function, list) offers a convenient way to filter out all the elements of an iterable, for which the function returns \"True\".\n",
        "\n",
        "The function filter(function(),l) needs a function as its first argument. The function needs to return a Boolean value (either True or False). This function will be applied to every element of the iterable. Only if the function returns \"True\" will the element of the iterable be included in the result.\n",
        "\n",
        "Let's see some examples:"
      ]
    },
    {
      "cell_type": "code",
      "execution_count": 120,
      "metadata": {
        "id": "byGXVHG798VM"
      },
      "outputs": [],
      "source": [
        "#First let's make a function\n",
        "def even_check(num):\n",
        "  if num%2 ==0:\n",
        "    return True"
      ]
    },
    {
      "cell_type": "markdown",
      "metadata": {
        "id": "5T5XtJ9g98VM"
      },
      "source": [
        "Now let's filter a list of numbers. Note that putting the function into filter without any parenthesis might feel strange, but keep in mind that functions are objects as well."
      ]
    },
    {
      "cell_type": "code",
      "execution_count": 122,
      "metadata": {
        "colab": {
          "base_uri": "https://localhost:8080/"
        },
        "id": "QL4j2FZu98VM",
        "outputId": "922b5bfa-0985-4d09-c4e6-707ed790dd1c"
      },
      "outputs": [
        {
          "output_type": "execute_result",
          "data": {
            "text/plain": [
              "[0, 2, 4, 6, 8, 10, 12, 14, 16, 18]"
            ]
          },
          "metadata": {},
          "execution_count": 122
        }
      ],
      "source": [
        "lst=range(20)\n",
        "list(filter(even_check,lst))"
      ]
    },
    {
      "cell_type": "markdown",
      "metadata": {
        "id": "9C5kNk8698VM"
      },
      "source": [
        "filter() is more commonly used with lambda functions, this because we usually use filter for a quick job where we don't want to write an entire function. Let's repeat the example above using a lambda expression:"
      ]
    },
    {
      "cell_type": "code",
      "execution_count": 123,
      "metadata": {
        "colab": {
          "base_uri": "https://localhost:8080/"
        },
        "id": "MIXQR3zT98VN",
        "outputId": "d2bf759e-0e17-4054-a84f-3d6056162476"
      },
      "outputs": [
        {
          "output_type": "execute_result",
          "data": {
            "text/plain": [
              "[0, 2, 4, 6, 8, 10, 12, 14, 16, 18]"
            ]
          },
          "metadata": {},
          "execution_count": 123
        }
      ],
      "source": [
        "list(filter(lambda x:x%2==0,lst))"
      ]
    },
    {
      "cell_type": "code",
      "execution_count": null,
      "metadata": {
        "id": "hUPO8LGx98VN"
      },
      "outputs": [],
      "source": []
    }
  ],
  "metadata": {
    "kernelspec": {
      "display_name": "Python 3",
      "language": "python",
      "name": "python3"
    },
    "language_info": {
      "codemirror_mode": {
        "name": "ipython",
        "version": 3
      },
      "file_extension": ".py",
      "mimetype": "text/x-python",
      "name": "python",
      "nbconvert_exporter": "python",
      "pygments_lexer": "ipython3",
      "version": "3.7.3"
    },
    "colab": {
      "provenance": []
    }
  },
  "nbformat": 4,
  "nbformat_minor": 0
}